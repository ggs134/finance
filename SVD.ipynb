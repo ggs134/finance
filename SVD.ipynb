{
 "metadata": {
  "name": ""
 },
 "nbformat": 3,
 "nbformat_minor": 0,
 "worksheets": [
  {
   "cells": [
    {
     "cell_type": "code",
     "collapsed": false,
     "input": [
      "import pymongo\n",
      "import numpy as np"
     ],
     "language": "python",
     "metadata": {},
     "outputs": [],
     "prompt_number": 75
    },
    {
     "cell_type": "code",
     "collapsed": false,
     "input": [
      "db = pymongo.MongoClient()['finance']"
     ],
     "language": "python",
     "metadata": {},
     "outputs": [],
     "prompt_number": 76
    },
    {
     "cell_type": "code",
     "collapsed": false,
     "input": [
      "company_list = db.finance.distinct('company')"
     ],
     "language": "python",
     "metadata": {},
     "outputs": [],
     "prompt_number": 103
    },
    {
     "cell_type": "code",
     "collapsed": false,
     "input": [
      "for i in company_list:\n",
      "    print i\n",
      "    "
     ],
     "language": "python",
     "metadata": {},
     "outputs": [
      {
       "output_type": "stream",
       "stream": "stdout",
       "text": [
        "AJ\ub80c\ud130\uce74\n",
        "AK\ud640\ub529\uc2a4\n",
        "BGF\ub9ac\ud14c\uc77c\n",
        "BNK\uae08\uc735\uc9c0\uc8fc\n",
        "BYC\n",
        "CJ\n",
        "CJ CGV\n",
        "CJ\ub300\ud55c\ud1b5\uc6b4\n",
        "CJ\uc528\ud478\ub4dc\n"
       ]
      }
     ],
     "prompt_number": 105
    },
    {
     "cell_type": "code",
     "collapsed": false,
     "input": [
      "print company_list[0]"
     ],
     "language": "python",
     "metadata": {},
     "outputs": [
      {
       "output_type": "stream",
       "stream": "stdout",
       "text": [
        "AJ\ub80c\ud130\uce74\n"
       ]
      }
     ],
     "prompt_number": 79
    },
    {
     "cell_type": "code",
     "collapsed": false,
     "input": [
      "for i in db.finance.find({'company':company_list[0]},{'Open':1}):\n",
      "    row.append(i['Open'])"
     ],
     "language": "python",
     "metadata": {},
     "outputs": [],
     "prompt_number": 80
    },
    {
     "cell_type": "code",
     "collapsed": false,
     "input": [
      "arr = np.array(row)"
     ],
     "language": "python",
     "metadata": {},
     "outputs": [],
     "prompt_number": 81
    },
    {
     "cell_type": "code",
     "collapsed": false,
     "input": [
      "print arr"
     ],
     "language": "python",
     "metadata": {},
     "outputs": [
      {
       "output_type": "stream",
       "stream": "stdout",
       "text": [
        "[ 12450.  12650.  13000.  13350.  13050.  13150.  13650.  13300.  13450.\n",
        "  13600.  13650.  13600.  13150.  12700.  13450.  13500.  13200.  13300.\n",
        "  13100.  13900.  14300.  14100.  14550.  14150.  14150.  14450.  14250.\n",
        "  14150.  14200.  14400.  14450.  14300.  14500.  14550.  14500.  14550.\n",
        "  14500.  13850.  13600.  14250.  14300.  14050.  14350.  14750.  14950.\n",
        "  15550.  15700.  16500.  16100.  15750.  16000.  15650.  15750.  15200.\n",
        "  15500.  16500.  16200.  16100.  15600.  15850.  15850.  16050.  16200.\n",
        "  16350.  16100.  15850.  15300.  15500.  15400.  15200.  15850.  16000.\n",
        "  16050.  16450.  15550.  16200.  15800.  16000.  16100.  16050.  16350.\n",
        "  16500.  16550.  16550.  16750.  16500.  17100.  17400.  17950.  17400.\n",
        "  17350.  17150.  17250.  16800.  16450.  16900.  16500.  16650.  17150.\n",
        "  17000.  17300.  16600.  15450.  15650.  15500.  14700.  15800.  15500.\n",
        "  15400.  15800.  15350.  15200.  15000.  15250.  15250.  15300.  15600.\n",
        "  15850.  15600.  15800.  15800.  16150.  16300.  15850.  16500.  16000.\n",
        "  15750.  15750.  15600.  15650.  15450.  15500.  15200.  15400.  15100.\n",
        "  15150.  14950.  14650.  14250.  14450.  14500.  14000.  14050.  14200.\n",
        "  13500.  14550.  14350.  13900.  14550.  14950.  14950.  14700.  14250.\n",
        "  14500.  15150.  15050.  15000.  15200.  15000.  14600.  14550.  16700.\n",
        "  16600.  16250.  16150.  15550.  16200.  16500.  16950.  16700.  16950.\n",
        "  16650.  16900.  17200.  17850.  18100.  17900.  18000.  18150.  17750.\n",
        "  17550.  17950.  17700.  17450.  17350.  18000.  17950.  17650.  17500.\n",
        "  16600.  16400.  16750.  16300.  16950.  17100.  17050.  17250.  17900.\n",
        "  18000.  17200.  17200.  17250.  17050.  16800.  16900.  17750.  17700.\n",
        "  18100.  17700.  17250.  17350.  17750.  17650.  17450.  17100.  16500.\n",
        "  16400.  17450.  17600.  17100.  16600.  16950.  17500.  17000.  17350.\n",
        "  17900.  15200.  15750.  16650.  15850.  15500.  15700.  16150.  16250.\n",
        "  15750.  15850.  15650.  15900.  16150.  16500.  16900.  16700.  16500.\n",
        "  16150.  16200.]\n"
       ]
      }
     ],
     "prompt_number": 82
    },
    {
     "cell_type": "code",
     "collapsed": false,
     "input": [
      "print company_list[1]"
     ],
     "language": "python",
     "metadata": {},
     "outputs": [
      {
       "output_type": "stream",
       "stream": "stdout",
       "text": [
        "AK\ud640\ub529\uc2a4\n"
       ]
      }
     ],
     "prompt_number": 83
    },
    {
     "cell_type": "code",
     "collapsed": false,
     "input": [
      "row=[]"
     ],
     "language": "python",
     "metadata": {},
     "outputs": [],
     "prompt_number": 84
    },
    {
     "cell_type": "code",
     "collapsed": false,
     "input": [
      "for i in db.finance.find({'company':company_list[1]},{'Open':1}):\n",
      "    row.append(i['Open'])"
     ],
     "language": "python",
     "metadata": {},
     "outputs": [],
     "prompt_number": 85
    },
    {
     "cell_type": "code",
     "collapsed": false,
     "input": [
      "arr1 = np.array(row)"
     ],
     "language": "python",
     "metadata": {},
     "outputs": [],
     "prompt_number": 86
    },
    {
     "cell_type": "code",
     "collapsed": false,
     "input": [
      "print arr1"
     ],
     "language": "python",
     "metadata": {},
     "outputs": [
      {
       "output_type": "stream",
       "stream": "stdout",
       "text": [
        "[ 41000.  41100.  40000.  40100.  41300.  41600.  41950.  41300.  40800.\n",
        "  41050.  40750.  40550.  40550.  39650.  40000.  40000.  39200.  38500.\n",
        "  38300.  39200.  39200.  38800.  39350.  38350.  38550.  40050.  39300.\n",
        "  39700.  39650.  39900.  39500.  40200.  40800.  40950.  43450.  46200.\n",
        "  46050.  45700.  47350.  47400.  45800.  46300.  48050.  50000.  51500.\n",
        "  54000.  53000.  56000.  56200.  55200.  57500.  55800.  56900.  58700.\n",
        "  58900.  59000.  58600.  56600.  56600.  57500.  58100.  56900.  57600.\n",
        "  59700.  60200.  59000.  56600.  57100.  56500.  56600.  57000.  57700.\n",
        "  57500.  57500.  56300.  56500.  56000.  55400.  55400.  53000.  55700.\n",
        "  54700.  53500.  53200.  56500.  57400.  56100.  59500.  58900.  57200.\n",
        "  59600.  58600.  57000.  57000.  59400.  62600.  61500.  61900.  62300.\n",
        "  62900.  62700.  63200.  72300.  74200.  68200.  72200.  71900.  72100.\n",
        "  71800.  70600.  69800.  68300.  71000.  69500.  69500.  70700.  69900.\n",
        "  69300.  68600.  65200.  65100.  66000.  69300.  68800.  68600.  70300.\n",
        "  67600.  70000.  70100.  67900.  66800.  67600.  64900.  63800.  62500.\n",
        "  63000.  61900.  64100.  63500.  64500.  61300.  61100.  60500.  61700.\n",
        "  60700.  58900.  57400.  60000.  58200.  58900.  61300.  61300.  60200.\n",
        "  58500.  58200.  56500.  57700.  57700.  58900.  61200.  61100.  63000.\n",
        "  60400.  60500.  60700.  61400.  66100.  66800.  66900.  67600.  65000.\n",
        "  65500.  62500.  63800.  63200.  63200.  62100.  64000.  63000.  64400.\n",
        "  63900.  64400.  62700.  61500.  61300.  62500.  59800.  57800.  59700.\n",
        "  60200.  56000.  57900.  60100.  62300.  63800.  64500.  67300.  70000.\n",
        "  70200.  70400.  75700.  74700.  71400.  72700.  71400.  74900.  76300.\n",
        "  75200.  74000.  74900.  72800.  75200.  76700.  74000.  74100.  73800.\n",
        "  74000.  74400.  74200.  72700.  68800.  69600.  70900.  72500.  78400.\n",
        "  78100.  78200.  77000.  77100.  76400.  80100.  80000.  80000.  79200.\n",
        "  79700.  78200.  81700.  80400.  78800.  77500.  77600.  77000.  76700.\n",
        "  76500.  80700.]\n"
       ]
      }
     ],
     "prompt_number": 87
    },
    {
     "cell_type": "code",
     "collapsed": false,
     "input": [
      "arr.shape"
     ],
     "language": "python",
     "metadata": {},
     "outputs": [
      {
       "metadata": {},
       "output_type": "pyout",
       "prompt_number": 88,
       "text": [
        "(245,)"
       ]
      }
     ],
     "prompt_number": 88
    },
    {
     "cell_type": "code",
     "collapsed": false,
     "input": [
      "arr1.shape"
     ],
     "language": "python",
     "metadata": {},
     "outputs": [
      {
       "metadata": {},
       "output_type": "pyout",
       "prompt_number": 89,
       "text": [
        "(245,)"
       ]
      }
     ],
     "prompt_number": 89
    },
    {
     "cell_type": "code",
     "collapsed": false,
     "input": [
      "arr3 = np.vstack((arr,arr1))"
     ],
     "language": "python",
     "metadata": {},
     "outputs": [],
     "prompt_number": 90
    },
    {
     "cell_type": "code",
     "collapsed": false,
     "input": [
      "arr3.shape"
     ],
     "language": "python",
     "metadata": {},
     "outputs": [
      {
       "metadata": {},
       "output_type": "pyout",
       "prompt_number": 91,
       "text": [
        "(2, 245)"
       ]
      }
     ],
     "prompt_number": 91
    },
    {
     "cell_type": "code",
     "collapsed": false,
     "input": [
      "U, s, V = np.linalg.svd(arr3)"
     ],
     "language": "python",
     "metadata": {},
     "outputs": [],
     "prompt_number": 92
    },
    {
     "cell_type": "code",
     "collapsed": false,
     "input": [
      "s.shape, V.shape, U.shape"
     ],
     "language": "python",
     "metadata": {},
     "outputs": [
      {
       "metadata": {},
       "output_type": "pyout",
       "prompt_number": 99,
       "text": [
        "((2,), (245, 245), (2, 2))"
       ]
      }
     ],
     "prompt_number": 99
    },
    {
     "cell_type": "code",
     "collapsed": false,
     "input": [
      "V"
     ],
     "language": "python",
     "metadata": {},
     "outputs": [
      {
       "metadata": {},
       "output_type": "pyout",
       "prompt_number": 100,
       "text": [
        "array([[-0.04288546, -0.04303189, -0.04205001, ..., -0.07855236,\n",
        "        -0.07827182, -0.08236274],\n",
        "       [-0.05642526, -0.0612622 , -0.07869764, ...,  0.08256133,\n",
        "         0.09085007,  0.1190158 ],\n",
        "       [-0.05235056, -0.07225477,  0.99276926, ...,  0.0030229 ,\n",
        "         0.00363016,  0.00550606],\n",
        "       ..., \n",
        "       [-0.06661501,  0.0924601 ,  0.00301441, ...,  0.98707831,\n",
        "        -0.01356922, -0.01617088],\n",
        "       [-0.06521133,  0.10063359,  0.00362139, ..., -0.01356982,\n",
        "         0.98571834, -0.01710232],\n",
        "       [-0.06543921,  0.12909268,  0.00549596, ..., -0.01617312,\n",
        "        -0.01710393,  0.97930515]])"
       ]
      }
     ],
     "prompt_number": 100
    },
    {
     "cell_type": "code",
     "collapsed": false,
     "input": [
      "U"
     ],
     "language": "python",
     "metadata": {},
     "outputs": [
      {
       "metadata": {},
       "output_type": "pyout",
       "prompt_number": 101,
       "text": [
        "array([[-0.24616457, -0.96922804],\n",
        "       [-0.96922804,  0.24616457]])"
       ]
      }
     ],
     "prompt_number": 101
    },
    {
     "cell_type": "code",
     "collapsed": false,
     "input": [],
     "language": "python",
     "metadata": {},
     "outputs": []
    }
   ],
   "metadata": {}
  }
 ]
}
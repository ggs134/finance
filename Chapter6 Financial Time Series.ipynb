{
 "metadata": {
  "name": ""
 },
 "nbformat": 3,
 "nbformat_minor": 0,
 "worksheets": [
  {
   "cells": [
    {
     "cell_type": "heading",
     "level": 1,
     "metadata": {},
     "source": [
      "pandas basic"
     ]
    },
    {
     "cell_type": "heading",
     "level": 2,
     "metadata": {},
     "source": [
      "First Steps with DataFrame Class"
     ]
    },
    {
     "cell_type": "code",
     "collapsed": false,
     "input": [
      "import numpy as np"
     ],
     "language": "python",
     "metadata": {},
     "outputs": [],
     "prompt_number": 1
    },
    {
     "cell_type": "code",
     "collapsed": false,
     "input": [
      "import pandas as pd"
     ],
     "language": "python",
     "metadata": {},
     "outputs": [],
     "prompt_number": 2
    },
    {
     "cell_type": "code",
     "collapsed": false,
     "input": [
      "df = pd.DataFrame([10,20,30,40], columns=['numbers'], index = ['a', 'b', 'c', 'd'])"
     ],
     "language": "python",
     "metadata": {},
     "outputs": [],
     "prompt_number": 3
    },
    {
     "cell_type": "code",
     "collapsed": false,
     "input": [
      "df"
     ],
     "language": "python",
     "metadata": {},
     "outputs": [
      {
       "html": [
        "<div style=\"max-width:1500px;overflow:auto;\">\n",
        "<table border=\"1\" class=\"dataframe\">\n",
        "  <thead>\n",
        "    <tr style=\"text-align: right;\">\n",
        "      <th></th>\n",
        "      <th>numbers</th>\n",
        "    </tr>\n",
        "  </thead>\n",
        "  <tbody>\n",
        "    <tr>\n",
        "      <th>a</th>\n",
        "      <td>10</td>\n",
        "    </tr>\n",
        "    <tr>\n",
        "      <th>b</th>\n",
        "      <td>20</td>\n",
        "    </tr>\n",
        "    <tr>\n",
        "      <th>c</th>\n",
        "      <td>30</td>\n",
        "    </tr>\n",
        "    <tr>\n",
        "      <th>d</th>\n",
        "      <td>40</td>\n",
        "    </tr>\n",
        "  </tbody>\n",
        "</table>\n",
        "</div>"
       ],
       "metadata": {},
       "output_type": "pyout",
       "prompt_number": 4,
       "text": [
        "   numbers\n",
        "a       10\n",
        "b       20\n",
        "c       30\n",
        "d       40"
       ]
      }
     ],
     "prompt_number": 4
    },
    {
     "cell_type": "code",
     "collapsed": false,
     "input": [
      "df.index"
     ],
     "language": "python",
     "metadata": {},
     "outputs": [
      {
       "metadata": {},
       "output_type": "pyout",
       "prompt_number": 5,
       "text": [
        "Index([u'a', u'b', u'c', u'd'], dtype='object')"
       ]
      }
     ],
     "prompt_number": 5
    },
    {
     "cell_type": "code",
     "collapsed": false,
     "input": [
      "df.columns"
     ],
     "language": "python",
     "metadata": {},
     "outputs": [
      {
       "metadata": {},
       "output_type": "pyout",
       "prompt_number": 6,
       "text": [
        "Index([u'numbers'], dtype='object')"
       ]
      }
     ],
     "prompt_number": 6
    },
    {
     "cell_type": "code",
     "collapsed": false,
     "input": [
      "df.ix['c']"
     ],
     "language": "python",
     "metadata": {},
     "outputs": [
      {
       "metadata": {},
       "output_type": "pyout",
       "prompt_number": 8,
       "text": [
        "numbers    30\n",
        "Name: c, dtype: int64"
       ]
      }
     ],
     "prompt_number": 8
    },
    {
     "cell_type": "code",
     "collapsed": false,
     "input": [
      "df.ix[['a','c']]"
     ],
     "language": "python",
     "metadata": {},
     "outputs": [
      {
       "html": [
        "<div style=\"max-width:1500px;overflow:auto;\">\n",
        "<table border=\"1\" class=\"dataframe\">\n",
        "  <thead>\n",
        "    <tr style=\"text-align: right;\">\n",
        "      <th></th>\n",
        "      <th>numbers</th>\n",
        "    </tr>\n",
        "  </thead>\n",
        "  <tbody>\n",
        "    <tr>\n",
        "      <th>a</th>\n",
        "      <td>10</td>\n",
        "    </tr>\n",
        "    <tr>\n",
        "      <th>c</th>\n",
        "      <td>30</td>\n",
        "    </tr>\n",
        "  </tbody>\n",
        "</table>\n",
        "</div>"
       ],
       "metadata": {},
       "output_type": "pyout",
       "prompt_number": 9,
       "text": [
        "   numbers\n",
        "a       10\n",
        "c       30"
       ]
      }
     ],
     "prompt_number": 9
    },
    {
     "cell_type": "code",
     "collapsed": false,
     "input": [
      "df.ix[df.index[1:3]]"
     ],
     "language": "python",
     "metadata": {},
     "outputs": [
      {
       "html": [
        "<div style=\"max-width:1500px;overflow:auto;\">\n",
        "<table border=\"1\" class=\"dataframe\">\n",
        "  <thead>\n",
        "    <tr style=\"text-align: right;\">\n",
        "      <th></th>\n",
        "      <th>numbers</th>\n",
        "    </tr>\n",
        "  </thead>\n",
        "  <tbody>\n",
        "    <tr>\n",
        "      <th>b</th>\n",
        "      <td>20</td>\n",
        "    </tr>\n",
        "    <tr>\n",
        "      <th>c</th>\n",
        "      <td>30</td>\n",
        "    </tr>\n",
        "  </tbody>\n",
        "</table>\n",
        "</div>"
       ],
       "metadata": {},
       "output_type": "pyout",
       "prompt_number": 10,
       "text": [
        "   numbers\n",
        "b       20\n",
        "c       30"
       ]
      }
     ],
     "prompt_number": 10
    },
    {
     "cell_type": "code",
     "collapsed": false,
     "input": [
      "df.sum()"
     ],
     "language": "python",
     "metadata": {},
     "outputs": [
      {
       "metadata": {},
       "output_type": "pyout",
       "prompt_number": 11,
       "text": [
        "numbers    100\n",
        "dtype: int64"
       ]
      }
     ],
     "prompt_number": 11
    },
    {
     "cell_type": "code",
     "collapsed": false,
     "input": [
      "df.apply(lambda x : x**2)"
     ],
     "language": "python",
     "metadata": {},
     "outputs": [
      {
       "html": [
        "<div style=\"max-width:1500px;overflow:auto;\">\n",
        "<table border=\"1\" class=\"dataframe\">\n",
        "  <thead>\n",
        "    <tr style=\"text-align: right;\">\n",
        "      <th></th>\n",
        "      <th>numbers</th>\n",
        "    </tr>\n",
        "  </thead>\n",
        "  <tbody>\n",
        "    <tr>\n",
        "      <th>a</th>\n",
        "      <td>100</td>\n",
        "    </tr>\n",
        "    <tr>\n",
        "      <th>b</th>\n",
        "      <td>400</td>\n",
        "    </tr>\n",
        "    <tr>\n",
        "      <th>c</th>\n",
        "      <td>900</td>\n",
        "    </tr>\n",
        "    <tr>\n",
        "      <th>d</th>\n",
        "      <td>1600</td>\n",
        "    </tr>\n",
        "  </tbody>\n",
        "</table>\n",
        "</div>"
       ],
       "metadata": {},
       "output_type": "pyout",
       "prompt_number": 12,
       "text": [
        "   numbers\n",
        "a      100\n",
        "b      400\n",
        "c      900\n",
        "d     1600"
       ]
      }
     ],
     "prompt_number": 12
    },
    {
     "cell_type": "code",
     "collapsed": false,
     "input": [
      "df **2"
     ],
     "language": "python",
     "metadata": {},
     "outputs": [
      {
       "html": [
        "<div style=\"max-width:1500px;overflow:auto;\">\n",
        "<table border=\"1\" class=\"dataframe\">\n",
        "  <thead>\n",
        "    <tr style=\"text-align: right;\">\n",
        "      <th></th>\n",
        "      <th>numbers</th>\n",
        "    </tr>\n",
        "  </thead>\n",
        "  <tbody>\n",
        "    <tr>\n",
        "      <th>a</th>\n",
        "      <td>100</td>\n",
        "    </tr>\n",
        "    <tr>\n",
        "      <th>b</th>\n",
        "      <td>400</td>\n",
        "    </tr>\n",
        "    <tr>\n",
        "      <th>c</th>\n",
        "      <td>900</td>\n",
        "    </tr>\n",
        "    <tr>\n",
        "      <th>d</th>\n",
        "      <td>1600</td>\n",
        "    </tr>\n",
        "  </tbody>\n",
        "</table>\n",
        "</div>"
       ],
       "metadata": {},
       "output_type": "pyout",
       "prompt_number": 13,
       "text": [
        "   numbers\n",
        "a      100\n",
        "b      400\n",
        "c      900\n",
        "d     1600"
       ]
      }
     ],
     "prompt_number": 13
    },
    {
     "cell_type": "code",
     "collapsed": false,
     "input": [
      "df['floats'] = (1.5, 2.5, 3.5, 4.5)"
     ],
     "language": "python",
     "metadata": {},
     "outputs": [],
     "prompt_number": 14
    },
    {
     "cell_type": "code",
     "collapsed": false,
     "input": [
      "df"
     ],
     "language": "python",
     "metadata": {},
     "outputs": [
      {
       "html": [
        "<div style=\"max-width:1500px;overflow:auto;\">\n",
        "<table border=\"1\" class=\"dataframe\">\n",
        "  <thead>\n",
        "    <tr style=\"text-align: right;\">\n",
        "      <th></th>\n",
        "      <th>numbers</th>\n",
        "      <th>floats</th>\n",
        "    </tr>\n",
        "  </thead>\n",
        "  <tbody>\n",
        "    <tr>\n",
        "      <th>a</th>\n",
        "      <td>10</td>\n",
        "      <td>1.5</td>\n",
        "    </tr>\n",
        "    <tr>\n",
        "      <th>b</th>\n",
        "      <td>20</td>\n",
        "      <td>2.5</td>\n",
        "    </tr>\n",
        "    <tr>\n",
        "      <th>c</th>\n",
        "      <td>30</td>\n",
        "      <td>3.5</td>\n",
        "    </tr>\n",
        "    <tr>\n",
        "      <th>d</th>\n",
        "      <td>40</td>\n",
        "      <td>4.5</td>\n",
        "    </tr>\n",
        "  </tbody>\n",
        "</table>\n",
        "</div>"
       ],
       "metadata": {},
       "output_type": "pyout",
       "prompt_number": 15,
       "text": [
        "   numbers  floats\n",
        "a       10     1.5\n",
        "b       20     2.5\n",
        "c       30     3.5\n",
        "d       40     4.5"
       ]
      }
     ],
     "prompt_number": 15
    },
    {
     "cell_type": "code",
     "collapsed": false,
     "input": [
      "df['names'] = pd.DataFrame(['hello', 'howld', 'ioasdf', 'jsh'], index=['d','a', 'b', 'c'])"
     ],
     "language": "python",
     "metadata": {},
     "outputs": [],
     "prompt_number": 18
    },
    {
     "cell_type": "code",
     "collapsed": false,
     "input": [
      "df"
     ],
     "language": "python",
     "metadata": {},
     "outputs": [
      {
       "html": [
        "<div style=\"max-width:1500px;overflow:auto;\">\n",
        "<table border=\"1\" class=\"dataframe\">\n",
        "  <thead>\n",
        "    <tr style=\"text-align: right;\">\n",
        "      <th></th>\n",
        "      <th>numbers</th>\n",
        "      <th>floats</th>\n",
        "      <th>names</th>\n",
        "    </tr>\n",
        "  </thead>\n",
        "  <tbody>\n",
        "    <tr>\n",
        "      <th>a</th>\n",
        "      <td>10</td>\n",
        "      <td>1.5</td>\n",
        "      <td>howld</td>\n",
        "    </tr>\n",
        "    <tr>\n",
        "      <th>b</th>\n",
        "      <td>20</td>\n",
        "      <td>2.5</td>\n",
        "      <td>ioasdf</td>\n",
        "    </tr>\n",
        "    <tr>\n",
        "      <th>c</th>\n",
        "      <td>30</td>\n",
        "      <td>3.5</td>\n",
        "      <td>jsh</td>\n",
        "    </tr>\n",
        "    <tr>\n",
        "      <th>d</th>\n",
        "      <td>40</td>\n",
        "      <td>4.5</td>\n",
        "      <td>hello</td>\n",
        "    </tr>\n",
        "  </tbody>\n",
        "</table>\n",
        "</div>"
       ],
       "metadata": {},
       "output_type": "pyout",
       "prompt_number": 19,
       "text": [
        "   numbers  floats   names\n",
        "a       10     1.5   howld\n",
        "b       20     2.5  ioasdf\n",
        "c       30     3.5     jsh\n",
        "d       40     4.5   hello"
       ]
      }
     ],
     "prompt_number": 19
    },
    {
     "cell_type": "code",
     "collapsed": false,
     "input": [
      "df.append(pd.DataFrame({'numbers':100, 'floats': 5.75, 'names': 'henry'}, index=['z',]))"
     ],
     "language": "python",
     "metadata": {},
     "outputs": [
      {
       "html": [
        "<div style=\"max-width:1500px;overflow:auto;\">\n",
        "<table border=\"1\" class=\"dataframe\">\n",
        "  <thead>\n",
        "    <tr style=\"text-align: right;\">\n",
        "      <th></th>\n",
        "      <th>floats</th>\n",
        "      <th>names</th>\n",
        "      <th>numbers</th>\n",
        "    </tr>\n",
        "  </thead>\n",
        "  <tbody>\n",
        "    <tr>\n",
        "      <th>a</th>\n",
        "      <td>1.50</td>\n",
        "      <td>howld</td>\n",
        "      <td>10</td>\n",
        "    </tr>\n",
        "    <tr>\n",
        "      <th>b</th>\n",
        "      <td>2.50</td>\n",
        "      <td>ioasdf</td>\n",
        "      <td>20</td>\n",
        "    </tr>\n",
        "    <tr>\n",
        "      <th>c</th>\n",
        "      <td>3.50</td>\n",
        "      <td>jsh</td>\n",
        "      <td>30</td>\n",
        "    </tr>\n",
        "    <tr>\n",
        "      <th>d</th>\n",
        "      <td>4.50</td>\n",
        "      <td>hello</td>\n",
        "      <td>40</td>\n",
        "    </tr>\n",
        "    <tr>\n",
        "      <th>z</th>\n",
        "      <td>5.75</td>\n",
        "      <td>henry</td>\n",
        "      <td>100</td>\n",
        "    </tr>\n",
        "  </tbody>\n",
        "</table>\n",
        "</div>"
       ],
       "metadata": {},
       "output_type": "pyout",
       "prompt_number": 21,
       "text": [
        "   floats   names  numbers\n",
        "a    1.50   howld       10\n",
        "b    2.50  ioasdf       20\n",
        "c    3.50     jsh       30\n",
        "d    4.50   hello       40\n",
        "z    5.75   henry      100"
       ]
      }
     ],
     "prompt_number": 21
    },
    {
     "cell_type": "code",
     "collapsed": false,
     "input": [
      "df = df.join(pd.DataFrame([1,4,9,16,25], index=['a', 'b', 'c','d','y'], columns=['squares',]), how='outer')"
     ],
     "language": "python",
     "metadata": {},
     "outputs": [],
     "prompt_number": 23
    },
    {
     "cell_type": "code",
     "collapsed": false,
     "input": [
      "df"
     ],
     "language": "python",
     "metadata": {},
     "outputs": [
      {
       "html": [
        "<div style=\"max-width:1500px;overflow:auto;\">\n",
        "<table border=\"1\" class=\"dataframe\">\n",
        "  <thead>\n",
        "    <tr style=\"text-align: right;\">\n",
        "      <th></th>\n",
        "      <th>numbers</th>\n",
        "      <th>floats</th>\n",
        "      <th>names</th>\n",
        "      <th>squares</th>\n",
        "    </tr>\n",
        "  </thead>\n",
        "  <tbody>\n",
        "    <tr>\n",
        "      <th>a</th>\n",
        "      <td>10</td>\n",
        "      <td>1.5</td>\n",
        "      <td>howld</td>\n",
        "      <td>1</td>\n",
        "    </tr>\n",
        "    <tr>\n",
        "      <th>b</th>\n",
        "      <td>20</td>\n",
        "      <td>2.5</td>\n",
        "      <td>ioasdf</td>\n",
        "      <td>4</td>\n",
        "    </tr>\n",
        "    <tr>\n",
        "      <th>c</th>\n",
        "      <td>30</td>\n",
        "      <td>3.5</td>\n",
        "      <td>jsh</td>\n",
        "      <td>9</td>\n",
        "    </tr>\n",
        "    <tr>\n",
        "      <th>d</th>\n",
        "      <td>40</td>\n",
        "      <td>4.5</td>\n",
        "      <td>hello</td>\n",
        "      <td>16</td>\n",
        "    </tr>\n",
        "    <tr>\n",
        "      <th>y</th>\n",
        "      <td>NaN</td>\n",
        "      <td>NaN</td>\n",
        "      <td>NaN</td>\n",
        "      <td>25</td>\n",
        "    </tr>\n",
        "  </tbody>\n",
        "</table>\n",
        "</div>"
       ],
       "metadata": {},
       "output_type": "pyout",
       "prompt_number": 24,
       "text": [
        "   numbers  floats   names  squares\n",
        "a       10     1.5   howld        1\n",
        "b       20     2.5  ioasdf        4\n",
        "c       30     3.5     jsh        9\n",
        "d       40     4.5   hello       16\n",
        "y      NaN     NaN     NaN       25"
       ]
      }
     ],
     "prompt_number": 24
    },
    {
     "cell_type": "code",
     "collapsed": false,
     "input": [
      "df[['numbers', 'squares']].mean()"
     ],
     "language": "python",
     "metadata": {},
     "outputs": [
      {
       "metadata": {},
       "output_type": "pyout",
       "prompt_number": 25,
       "text": [
        "numbers    25\n",
        "squares    11\n",
        "dtype: float64"
       ]
      }
     ],
     "prompt_number": 25
    },
    {
     "cell_type": "code",
     "collapsed": false,
     "input": [
      "df[['numbers', 'squares']].std()"
     ],
     "language": "python",
     "metadata": {},
     "outputs": [
      {
       "metadata": {},
       "output_type": "pyout",
       "prompt_number": 26,
       "text": [
        "numbers    12.909944\n",
        "squares     9.669540\n",
        "dtype: float64"
       ]
      }
     ],
     "prompt_number": 26
    },
    {
     "cell_type": "heading",
     "level": 2,
     "metadata": {},
     "source": [
      "Second Steps with DataFrame Class"
     ]
    },
    {
     "cell_type": "code",
     "collapsed": false,
     "input": [
      "a = np.random.standard_normal((9,4))"
     ],
     "language": "python",
     "metadata": {},
     "outputs": [],
     "prompt_number": 27
    },
    {
     "cell_type": "code",
     "collapsed": false,
     "input": [
      "a"
     ],
     "language": "python",
     "metadata": {},
     "outputs": [
      {
       "metadata": {},
       "output_type": "pyout",
       "prompt_number": 28,
       "text": [
        "array([[ 1.40367173,  0.3137024 ,  0.24834645,  0.12971334],\n",
        "       [ 0.84333209, -0.19473407,  1.66450586, -0.23409819],\n",
        "       [ 0.93056219,  0.77064659, -1.0355341 , -0.56253636],\n",
        "       [ 1.13218959,  0.58221073, -1.66372768,  0.77248566],\n",
        "       [-1.67988403,  0.5805164 , -0.30587838,  0.88495751],\n",
        "       [-0.37370906,  1.75473948, -2.13870257,  0.16429857],\n",
        "       [-0.65345669,  0.26011876,  0.54471633, -0.30385611],\n",
        "       [ 0.17266031, -2.02409428, -0.78362876,  0.58339582],\n",
        "       [-0.22616961, -1.23332868,  0.72572316, -0.12698092]])"
       ]
      }
     ],
     "prompt_number": 28
    },
    {
     "cell_type": "code",
     "collapsed": false,
     "input": [
      "a.round(6)"
     ],
     "language": "python",
     "metadata": {},
     "outputs": [
      {
       "metadata": {},
       "output_type": "pyout",
       "prompt_number": 29,
       "text": [
        "array([[ 1.403672,  0.313702,  0.248346,  0.129713],\n",
        "       [ 0.843332, -0.194734,  1.664506, -0.234098],\n",
        "       [ 0.930562,  0.770647, -1.035534, -0.562536],\n",
        "       [ 1.13219 ,  0.582211, -1.663728,  0.772486],\n",
        "       [-1.679884,  0.580516, -0.305878,  0.884958],\n",
        "       [-0.373709,  1.754739, -2.138703,  0.164299],\n",
        "       [-0.653457,  0.260119,  0.544716, -0.303856],\n",
        "       [ 0.17266 , -2.024094, -0.783629,  0.583396],\n",
        "       [-0.22617 , -1.233329,  0.725723, -0.126981]])"
       ]
      }
     ],
     "prompt_number": 29
    },
    {
     "cell_type": "code",
     "collapsed": false,
     "input": [
      "df = pd.DataFrame(a.round(6))"
     ],
     "language": "python",
     "metadata": {},
     "outputs": [],
     "prompt_number": 33
    },
    {
     "cell_type": "code",
     "collapsed": false,
     "input": [
      "df"
     ],
     "language": "python",
     "metadata": {},
     "outputs": [
      {
       "html": [
        "<div style=\"max-width:1500px;overflow:auto;\">\n",
        "<table border=\"1\" class=\"dataframe\">\n",
        "  <thead>\n",
        "    <tr style=\"text-align: right;\">\n",
        "      <th></th>\n",
        "      <th>0</th>\n",
        "      <th>1</th>\n",
        "      <th>2</th>\n",
        "      <th>3</th>\n",
        "    </tr>\n",
        "  </thead>\n",
        "  <tbody>\n",
        "    <tr>\n",
        "      <th>0</th>\n",
        "      <td>1.403672</td>\n",
        "      <td>0.313702</td>\n",
        "      <td>0.248346</td>\n",
        "      <td>0.129713</td>\n",
        "    </tr>\n",
        "    <tr>\n",
        "      <th>1</th>\n",
        "      <td>0.843332</td>\n",
        "      <td>-0.194734</td>\n",
        "      <td>1.664506</td>\n",
        "      <td>-0.234098</td>\n",
        "    </tr>\n",
        "    <tr>\n",
        "      <th>2</th>\n",
        "      <td>0.930562</td>\n",
        "      <td>0.770647</td>\n",
        "      <td>-1.035534</td>\n",
        "      <td>-0.562536</td>\n",
        "    </tr>\n",
        "    <tr>\n",
        "      <th>3</th>\n",
        "      <td>1.132190</td>\n",
        "      <td>0.582211</td>\n",
        "      <td>-1.663728</td>\n",
        "      <td>0.772486</td>\n",
        "    </tr>\n",
        "    <tr>\n",
        "      <th>4</th>\n",
        "      <td>-1.679884</td>\n",
        "      <td>0.580516</td>\n",
        "      <td>-0.305878</td>\n",
        "      <td>0.884958</td>\n",
        "    </tr>\n",
        "    <tr>\n",
        "      <th>5</th>\n",
        "      <td>-0.373709</td>\n",
        "      <td>1.754739</td>\n",
        "      <td>-2.138703</td>\n",
        "      <td>0.164299</td>\n",
        "    </tr>\n",
        "    <tr>\n",
        "      <th>6</th>\n",
        "      <td>-0.653457</td>\n",
        "      <td>0.260119</td>\n",
        "      <td>0.544716</td>\n",
        "      <td>-0.303856</td>\n",
        "    </tr>\n",
        "    <tr>\n",
        "      <th>7</th>\n",
        "      <td>0.172660</td>\n",
        "      <td>-2.024094</td>\n",
        "      <td>-0.783629</td>\n",
        "      <td>0.583396</td>\n",
        "    </tr>\n",
        "    <tr>\n",
        "      <th>8</th>\n",
        "      <td>-0.226170</td>\n",
        "      <td>-1.233329</td>\n",
        "      <td>0.725723</td>\n",
        "      <td>-0.126981</td>\n",
        "    </tr>\n",
        "  </tbody>\n",
        "</table>\n",
        "</div>"
       ],
       "metadata": {},
       "output_type": "pyout",
       "prompt_number": 34,
       "text": [
        "          0         1         2         3\n",
        "0  1.403672  0.313702  0.248346  0.129713\n",
        "1  0.843332 -0.194734  1.664506 -0.234098\n",
        "2  0.930562  0.770647 -1.035534 -0.562536\n",
        "3  1.132190  0.582211 -1.663728  0.772486\n",
        "4 -1.679884  0.580516 -0.305878  0.884958\n",
        "5 -0.373709  1.754739 -2.138703  0.164299\n",
        "6 -0.653457  0.260119  0.544716 -0.303856\n",
        "7  0.172660 -2.024094 -0.783629  0.583396\n",
        "8 -0.226170 -1.233329  0.725723 -0.126981"
       ]
      }
     ],
     "prompt_number": 34
    },
    {
     "cell_type": "code",
     "collapsed": false,
     "input": [
      "df.columns = [['No1', 'No2', 'No3', 'No4']]"
     ],
     "language": "python",
     "metadata": {},
     "outputs": [],
     "prompt_number": 37
    },
    {
     "cell_type": "code",
     "collapsed": false,
     "input": [
      "df"
     ],
     "language": "python",
     "metadata": {},
     "outputs": [
      {
       "html": [
        "<div style=\"max-width:1500px;overflow:auto;\">\n",
        "<table border=\"1\" class=\"dataframe\">\n",
        "  <thead>\n",
        "    <tr style=\"text-align: right;\">\n",
        "      <th></th>\n",
        "      <th>No1</th>\n",
        "      <th>No2</th>\n",
        "      <th>No3</th>\n",
        "      <th>No4</th>\n",
        "    </tr>\n",
        "  </thead>\n",
        "  <tbody>\n",
        "    <tr>\n",
        "      <th>0</th>\n",
        "      <td>1.403672</td>\n",
        "      <td>0.313702</td>\n",
        "      <td>0.248346</td>\n",
        "      <td>0.129713</td>\n",
        "    </tr>\n",
        "    <tr>\n",
        "      <th>1</th>\n",
        "      <td>0.843332</td>\n",
        "      <td>-0.194734</td>\n",
        "      <td>1.664506</td>\n",
        "      <td>-0.234098</td>\n",
        "    </tr>\n",
        "    <tr>\n",
        "      <th>2</th>\n",
        "      <td>0.930562</td>\n",
        "      <td>0.770647</td>\n",
        "      <td>-1.035534</td>\n",
        "      <td>-0.562536</td>\n",
        "    </tr>\n",
        "    <tr>\n",
        "      <th>3</th>\n",
        "      <td>1.132190</td>\n",
        "      <td>0.582211</td>\n",
        "      <td>-1.663728</td>\n",
        "      <td>0.772486</td>\n",
        "    </tr>\n",
        "    <tr>\n",
        "      <th>4</th>\n",
        "      <td>-1.679884</td>\n",
        "      <td>0.580516</td>\n",
        "      <td>-0.305878</td>\n",
        "      <td>0.884958</td>\n",
        "    </tr>\n",
        "    <tr>\n",
        "      <th>5</th>\n",
        "      <td>-0.373709</td>\n",
        "      <td>1.754739</td>\n",
        "      <td>-2.138703</td>\n",
        "      <td>0.164299</td>\n",
        "    </tr>\n",
        "    <tr>\n",
        "      <th>6</th>\n",
        "      <td>-0.653457</td>\n",
        "      <td>0.260119</td>\n",
        "      <td>0.544716</td>\n",
        "      <td>-0.303856</td>\n",
        "    </tr>\n",
        "    <tr>\n",
        "      <th>7</th>\n",
        "      <td>0.172660</td>\n",
        "      <td>-2.024094</td>\n",
        "      <td>-0.783629</td>\n",
        "      <td>0.583396</td>\n",
        "    </tr>\n",
        "    <tr>\n",
        "      <th>8</th>\n",
        "      <td>-0.226170</td>\n",
        "      <td>-1.233329</td>\n",
        "      <td>0.725723</td>\n",
        "      <td>-0.126981</td>\n",
        "    </tr>\n",
        "  </tbody>\n",
        "</table>\n",
        "</div>"
       ],
       "metadata": {},
       "output_type": "pyout",
       "prompt_number": 38,
       "text": [
        "        No1       No2       No3       No4\n",
        "0  1.403672  0.313702  0.248346  0.129713\n",
        "1  0.843332 -0.194734  1.664506 -0.234098\n",
        "2  0.930562  0.770647 -1.035534 -0.562536\n",
        "3  1.132190  0.582211 -1.663728  0.772486\n",
        "4 -1.679884  0.580516 -0.305878  0.884958\n",
        "5 -0.373709  1.754739 -2.138703  0.164299\n",
        "6 -0.653457  0.260119  0.544716 -0.303856\n",
        "7  0.172660 -2.024094 -0.783629  0.583396\n",
        "8 -0.226170 -1.233329  0.725723 -0.126981"
       ]
      }
     ],
     "prompt_number": 38
    },
    {
     "cell_type": "code",
     "collapsed": false,
     "input": [
      "df['No2'][0]"
     ],
     "language": "python",
     "metadata": {},
     "outputs": [
      {
       "metadata": {},
       "output_type": "pyout",
       "prompt_number": 39,
       "text": [
        "0.31370199999999998"
       ]
      }
     ],
     "prompt_number": 39
    },
    {
     "cell_type": "code",
     "collapsed": false,
     "input": [
      "dates = pd.date_range('2015-1-1', periods=9, freq='M')"
     ],
     "language": "python",
     "metadata": {},
     "outputs": [],
     "prompt_number": 40
    },
    {
     "cell_type": "code",
     "collapsed": false,
     "input": [
      "dates"
     ],
     "language": "python",
     "metadata": {},
     "outputs": [
      {
       "metadata": {},
       "output_type": "pyout",
       "prompt_number": 41,
       "text": [
        "DatetimeIndex(['2015-01-31', '2015-02-28', '2015-03-31', '2015-04-30',\n",
        "               '2015-05-31', '2015-06-30', '2015-07-31', '2015-08-31',\n",
        "               '2015-09-30'],\n",
        "              dtype='datetime64[ns]', freq='M')"
       ]
      }
     ],
     "prompt_number": 41
    },
    {
     "cell_type": "code",
     "collapsed": false,
     "input": [
      "df.index = dates\n",
      "df"
     ],
     "language": "python",
     "metadata": {},
     "outputs": [
      {
       "html": [
        "<div style=\"max-width:1500px;overflow:auto;\">\n",
        "<table border=\"1\" class=\"dataframe\">\n",
        "  <thead>\n",
        "    <tr style=\"text-align: right;\">\n",
        "      <th></th>\n",
        "      <th>No1</th>\n",
        "      <th>No2</th>\n",
        "      <th>No3</th>\n",
        "      <th>No4</th>\n",
        "    </tr>\n",
        "  </thead>\n",
        "  <tbody>\n",
        "    <tr>\n",
        "      <th>2015-01-31</th>\n",
        "      <td>1.403672</td>\n",
        "      <td>0.313702</td>\n",
        "      <td>0.248346</td>\n",
        "      <td>0.129713</td>\n",
        "    </tr>\n",
        "    <tr>\n",
        "      <th>2015-02-28</th>\n",
        "      <td>0.843332</td>\n",
        "      <td>-0.194734</td>\n",
        "      <td>1.664506</td>\n",
        "      <td>-0.234098</td>\n",
        "    </tr>\n",
        "    <tr>\n",
        "      <th>2015-03-31</th>\n",
        "      <td>0.930562</td>\n",
        "      <td>0.770647</td>\n",
        "      <td>-1.035534</td>\n",
        "      <td>-0.562536</td>\n",
        "    </tr>\n",
        "    <tr>\n",
        "      <th>2015-04-30</th>\n",
        "      <td>1.132190</td>\n",
        "      <td>0.582211</td>\n",
        "      <td>-1.663728</td>\n",
        "      <td>0.772486</td>\n",
        "    </tr>\n",
        "    <tr>\n",
        "      <th>2015-05-31</th>\n",
        "      <td>-1.679884</td>\n",
        "      <td>0.580516</td>\n",
        "      <td>-0.305878</td>\n",
        "      <td>0.884958</td>\n",
        "    </tr>\n",
        "    <tr>\n",
        "      <th>2015-06-30</th>\n",
        "      <td>-0.373709</td>\n",
        "      <td>1.754739</td>\n",
        "      <td>-2.138703</td>\n",
        "      <td>0.164299</td>\n",
        "    </tr>\n",
        "    <tr>\n",
        "      <th>2015-07-31</th>\n",
        "      <td>-0.653457</td>\n",
        "      <td>0.260119</td>\n",
        "      <td>0.544716</td>\n",
        "      <td>-0.303856</td>\n",
        "    </tr>\n",
        "    <tr>\n",
        "      <th>2015-08-31</th>\n",
        "      <td>0.172660</td>\n",
        "      <td>-2.024094</td>\n",
        "      <td>-0.783629</td>\n",
        "      <td>0.583396</td>\n",
        "    </tr>\n",
        "    <tr>\n",
        "      <th>2015-09-30</th>\n",
        "      <td>-0.226170</td>\n",
        "      <td>-1.233329</td>\n",
        "      <td>0.725723</td>\n",
        "      <td>-0.126981</td>\n",
        "    </tr>\n",
        "  </tbody>\n",
        "</table>\n",
        "</div>"
       ],
       "metadata": {},
       "output_type": "pyout",
       "prompt_number": 42,
       "text": [
        "                 No1       No2       No3       No4\n",
        "2015-01-31  1.403672  0.313702  0.248346  0.129713\n",
        "2015-02-28  0.843332 -0.194734  1.664506 -0.234098\n",
        "2015-03-31  0.930562  0.770647 -1.035534 -0.562536\n",
        "2015-04-30  1.132190  0.582211 -1.663728  0.772486\n",
        "2015-05-31 -1.679884  0.580516 -0.305878  0.884958\n",
        "2015-06-30 -0.373709  1.754739 -2.138703  0.164299\n",
        "2015-07-31 -0.653457  0.260119  0.544716 -0.303856\n",
        "2015-08-31  0.172660 -2.024094 -0.783629  0.583396\n",
        "2015-09-30 -0.226170 -1.233329  0.725723 -0.126981"
       ]
      }
     ],
     "prompt_number": 42
    },
    {
     "cell_type": "code",
     "collapsed": false,
     "input": [
      "np.array(df).round(6)"
     ],
     "language": "python",
     "metadata": {},
     "outputs": [
      {
       "metadata": {},
       "output_type": "pyout",
       "prompt_number": 43,
       "text": [
        "array([[ 1.403672,  0.313702,  0.248346,  0.129713],\n",
        "       [ 0.843332, -0.194734,  1.664506, -0.234098],\n",
        "       [ 0.930562,  0.770647, -1.035534, -0.562536],\n",
        "       [ 1.13219 ,  0.582211, -1.663728,  0.772486],\n",
        "       [-1.679884,  0.580516, -0.305878,  0.884958],\n",
        "       [-0.373709,  1.754739, -2.138703,  0.164299],\n",
        "       [-0.653457,  0.260119,  0.544716, -0.303856],\n",
        "       [ 0.17266 , -2.024094, -0.783629,  0.583396],\n",
        "       [-0.22617 , -1.233329,  0.725723, -0.126981]])"
       ]
      }
     ],
     "prompt_number": 43
    },
    {
     "cell_type": "heading",
     "level": 2,
     "metadata": {},
     "source": [
      "Basic Analytics"
     ]
    },
    {
     "cell_type": "code",
     "collapsed": false,
     "input": [
      "df.sum()"
     ],
     "language": "python",
     "metadata": {},
     "outputs": [
      {
       "metadata": {},
       "output_type": "pyout",
       "prompt_number": 44,
       "text": [
        "No1    1.549196\n",
        "No2    0.809777\n",
        "No3   -2.744181\n",
        "No4    1.307381\n",
        "dtype: float64"
       ]
      }
     ],
     "prompt_number": 44
    },
    {
     "cell_type": "code",
     "collapsed": false,
     "input": [
      "df.mean()"
     ],
     "language": "python",
     "metadata": {},
     "outputs": [
      {
       "metadata": {},
       "output_type": "pyout",
       "prompt_number": 45,
       "text": [
        "No1    0.172133\n",
        "No2    0.089975\n",
        "No3   -0.304909\n",
        "No4    0.145265\n",
        "dtype: float64"
       ]
      }
     ],
     "prompt_number": 45
    },
    {
     "cell_type": "code",
     "collapsed": false,
     "input": [
      "df.cumsum()"
     ],
     "language": "python",
     "metadata": {},
     "outputs": [
      {
       "html": [
        "<div style=\"max-width:1500px;overflow:auto;\">\n",
        "<table border=\"1\" class=\"dataframe\">\n",
        "  <thead>\n",
        "    <tr style=\"text-align: right;\">\n",
        "      <th></th>\n",
        "      <th>No1</th>\n",
        "      <th>No2</th>\n",
        "      <th>No3</th>\n",
        "      <th>No4</th>\n",
        "    </tr>\n",
        "  </thead>\n",
        "  <tbody>\n",
        "    <tr>\n",
        "      <th>2015-01-31</th>\n",
        "      <td>1.403672</td>\n",
        "      <td>0.313702</td>\n",
        "      <td>0.248346</td>\n",
        "      <td>0.129713</td>\n",
        "    </tr>\n",
        "    <tr>\n",
        "      <th>2015-02-28</th>\n",
        "      <td>2.247004</td>\n",
        "      <td>0.118968</td>\n",
        "      <td>1.912852</td>\n",
        "      <td>-0.104385</td>\n",
        "    </tr>\n",
        "    <tr>\n",
        "      <th>2015-03-31</th>\n",
        "      <td>3.177566</td>\n",
        "      <td>0.889615</td>\n",
        "      <td>0.877318</td>\n",
        "      <td>-0.666921</td>\n",
        "    </tr>\n",
        "    <tr>\n",
        "      <th>2015-04-30</th>\n",
        "      <td>4.309756</td>\n",
        "      <td>1.471826</td>\n",
        "      <td>-0.786410</td>\n",
        "      <td>0.105565</td>\n",
        "    </tr>\n",
        "    <tr>\n",
        "      <th>2015-05-31</th>\n",
        "      <td>2.629872</td>\n",
        "      <td>2.052342</td>\n",
        "      <td>-1.092288</td>\n",
        "      <td>0.990523</td>\n",
        "    </tr>\n",
        "    <tr>\n",
        "      <th>2015-06-30</th>\n",
        "      <td>2.256163</td>\n",
        "      <td>3.807081</td>\n",
        "      <td>-3.230991</td>\n",
        "      <td>1.154822</td>\n",
        "    </tr>\n",
        "    <tr>\n",
        "      <th>2015-07-31</th>\n",
        "      <td>1.602706</td>\n",
        "      <td>4.067200</td>\n",
        "      <td>-2.686275</td>\n",
        "      <td>0.850966</td>\n",
        "    </tr>\n",
        "    <tr>\n",
        "      <th>2015-08-31</th>\n",
        "      <td>1.775366</td>\n",
        "      <td>2.043106</td>\n",
        "      <td>-3.469904</td>\n",
        "      <td>1.434362</td>\n",
        "    </tr>\n",
        "    <tr>\n",
        "      <th>2015-09-30</th>\n",
        "      <td>1.549196</td>\n",
        "      <td>0.809777</td>\n",
        "      <td>-2.744181</td>\n",
        "      <td>1.307381</td>\n",
        "    </tr>\n",
        "  </tbody>\n",
        "</table>\n",
        "</div>"
       ],
       "metadata": {},
       "output_type": "pyout",
       "prompt_number": 46,
       "text": [
        "                 No1       No2       No3       No4\n",
        "2015-01-31  1.403672  0.313702  0.248346  0.129713\n",
        "2015-02-28  2.247004  0.118968  1.912852 -0.104385\n",
        "2015-03-31  3.177566  0.889615  0.877318 -0.666921\n",
        "2015-04-30  4.309756  1.471826 -0.786410  0.105565\n",
        "2015-05-31  2.629872  2.052342 -1.092288  0.990523\n",
        "2015-06-30  2.256163  3.807081 -3.230991  1.154822\n",
        "2015-07-31  1.602706  4.067200 -2.686275  0.850966\n",
        "2015-08-31  1.775366  2.043106 -3.469904  1.434362\n",
        "2015-09-30  1.549196  0.809777 -2.744181  1.307381"
       ]
      }
     ],
     "prompt_number": 46
    },
    {
     "cell_type": "code",
     "collapsed": false,
     "input": [
      "df.describe()"
     ],
     "language": "python",
     "metadata": {},
     "outputs": [
      {
       "html": [
        "<div style=\"max-width:1500px;overflow:auto;\">\n",
        "<table border=\"1\" class=\"dataframe\">\n",
        "  <thead>\n",
        "    <tr style=\"text-align: right;\">\n",
        "      <th></th>\n",
        "      <th>No1</th>\n",
        "      <th>No2</th>\n",
        "      <th>No3</th>\n",
        "      <th>No4</th>\n",
        "    </tr>\n",
        "  </thead>\n",
        "  <tbody>\n",
        "    <tr>\n",
        "      <th>count</th>\n",
        "      <td>9.000000</td>\n",
        "      <td>9.000000</td>\n",
        "      <td>9.000000</td>\n",
        "      <td>9.000000</td>\n",
        "    </tr>\n",
        "    <tr>\n",
        "      <th>mean</th>\n",
        "      <td>0.172133</td>\n",
        "      <td>0.089975</td>\n",
        "      <td>-0.304909</td>\n",
        "      <td>0.145265</td>\n",
        "    </tr>\n",
        "    <tr>\n",
        "      <th>std</th>\n",
        "      <td>1.002015</td>\n",
        "      <td>1.123508</td>\n",
        "      <td>1.221727</td>\n",
        "      <td>0.506685</td>\n",
        "    </tr>\n",
        "    <tr>\n",
        "      <th>min</th>\n",
        "      <td>-1.679884</td>\n",
        "      <td>-2.024094</td>\n",
        "      <td>-2.138703</td>\n",
        "      <td>-0.562536</td>\n",
        "    </tr>\n",
        "    <tr>\n",
        "      <th>25%</th>\n",
        "      <td>-0.373709</td>\n",
        "      <td>-0.194734</td>\n",
        "      <td>-1.035534</td>\n",
        "      <td>-0.234098</td>\n",
        "    </tr>\n",
        "    <tr>\n",
        "      <th>50%</th>\n",
        "      <td>0.172660</td>\n",
        "      <td>0.313702</td>\n",
        "      <td>-0.305878</td>\n",
        "      <td>0.129713</td>\n",
        "    </tr>\n",
        "    <tr>\n",
        "      <th>75%</th>\n",
        "      <td>0.930562</td>\n",
        "      <td>0.582211</td>\n",
        "      <td>0.544716</td>\n",
        "      <td>0.583396</td>\n",
        "    </tr>\n",
        "    <tr>\n",
        "      <th>max</th>\n",
        "      <td>1.403672</td>\n",
        "      <td>1.754739</td>\n",
        "      <td>1.664506</td>\n",
        "      <td>0.884958</td>\n",
        "    </tr>\n",
        "  </tbody>\n",
        "</table>\n",
        "</div>"
       ],
       "metadata": {},
       "output_type": "pyout",
       "prompt_number": 47,
       "text": [
        "            No1       No2       No3       No4\n",
        "count  9.000000  9.000000  9.000000  9.000000\n",
        "mean   0.172133  0.089975 -0.304909  0.145265\n",
        "std    1.002015  1.123508  1.221727  0.506685\n",
        "min   -1.679884 -2.024094 -2.138703 -0.562536\n",
        "25%   -0.373709 -0.194734 -1.035534 -0.234098\n",
        "50%    0.172660  0.313702 -0.305878  0.129713\n",
        "75%    0.930562  0.582211  0.544716  0.583396\n",
        "max    1.403672  1.754739  1.664506  0.884958"
       ]
      }
     ],
     "prompt_number": 47
    },
    {
     "cell_type": "code",
     "collapsed": false,
     "input": [
      "np.sqrt(df)"
     ],
     "language": "python",
     "metadata": {},
     "outputs": [
      {
       "html": [
        "<div style=\"max-width:1500px;overflow:auto;\">\n",
        "<table border=\"1\" class=\"dataframe\">\n",
        "  <thead>\n",
        "    <tr style=\"text-align: right;\">\n",
        "      <th></th>\n",
        "      <th>No1</th>\n",
        "      <th>No2</th>\n",
        "      <th>No3</th>\n",
        "      <th>No4</th>\n",
        "    </tr>\n",
        "  </thead>\n",
        "  <tbody>\n",
        "    <tr>\n",
        "      <th>2015-01-31</th>\n",
        "      <td>1.184767</td>\n",
        "      <td>0.560091</td>\n",
        "      <td>0.498343</td>\n",
        "      <td>0.360157</td>\n",
        "    </tr>\n",
        "    <tr>\n",
        "      <th>2015-02-28</th>\n",
        "      <td>0.918331</td>\n",
        "      <td>NaN</td>\n",
        "      <td>1.290157</td>\n",
        "      <td>NaN</td>\n",
        "    </tr>\n",
        "    <tr>\n",
        "      <th>2015-03-31</th>\n",
        "      <td>0.964656</td>\n",
        "      <td>0.877865</td>\n",
        "      <td>NaN</td>\n",
        "      <td>NaN</td>\n",
        "    </tr>\n",
        "    <tr>\n",
        "      <th>2015-04-30</th>\n",
        "      <td>1.064044</td>\n",
        "      <td>0.763028</td>\n",
        "      <td>NaN</td>\n",
        "      <td>0.878912</td>\n",
        "    </tr>\n",
        "    <tr>\n",
        "      <th>2015-05-31</th>\n",
        "      <td>NaN</td>\n",
        "      <td>0.761916</td>\n",
        "      <td>NaN</td>\n",
        "      <td>0.940722</td>\n",
        "    </tr>\n",
        "    <tr>\n",
        "      <th>2015-06-30</th>\n",
        "      <td>NaN</td>\n",
        "      <td>1.324666</td>\n",
        "      <td>NaN</td>\n",
        "      <td>0.405338</td>\n",
        "    </tr>\n",
        "    <tr>\n",
        "      <th>2015-07-31</th>\n",
        "      <td>NaN</td>\n",
        "      <td>0.510019</td>\n",
        "      <td>0.738049</td>\n",
        "      <td>NaN</td>\n",
        "    </tr>\n",
        "    <tr>\n",
        "      <th>2015-08-31</th>\n",
        "      <td>0.415524</td>\n",
        "      <td>NaN</td>\n",
        "      <td>NaN</td>\n",
        "      <td>0.763804</td>\n",
        "    </tr>\n",
        "    <tr>\n",
        "      <th>2015-09-30</th>\n",
        "      <td>NaN</td>\n",
        "      <td>NaN</td>\n",
        "      <td>0.851894</td>\n",
        "      <td>NaN</td>\n",
        "    </tr>\n",
        "  </tbody>\n",
        "</table>\n",
        "</div>"
       ],
       "metadata": {},
       "output_type": "pyout",
       "prompt_number": 49,
       "text": [
        "                 No1       No2       No3       No4\n",
        "2015-01-31  1.184767  0.560091  0.498343  0.360157\n",
        "2015-02-28  0.918331       NaN  1.290157       NaN\n",
        "2015-03-31  0.964656  0.877865       NaN       NaN\n",
        "2015-04-30  1.064044  0.763028       NaN  0.878912\n",
        "2015-05-31       NaN  0.761916       NaN  0.940722\n",
        "2015-06-30       NaN  1.324666       NaN  0.405338\n",
        "2015-07-31       NaN  0.510019  0.738049       NaN\n",
        "2015-08-31  0.415524       NaN       NaN  0.763804\n",
        "2015-09-30       NaN       NaN  0.851894       NaN"
       ]
      }
     ],
     "prompt_number": 49
    },
    {
     "cell_type": "code",
     "collapsed": false,
     "input": [
      "np.sqrt(df).sum()"
     ],
     "language": "python",
     "metadata": {},
     "outputs": [
      {
       "metadata": {},
       "output_type": "pyout",
       "prompt_number": 50,
       "text": [
        "No1    4.547322\n",
        "No2    4.797584\n",
        "No3    3.378443\n",
        "No4    3.348933\n",
        "dtype: float64"
       ]
      }
     ],
     "prompt_number": 50
    },
    {
     "cell_type": "code",
     "collapsed": false,
     "input": [
      "%matplotlib inline\n",
      "df.cumsum().plot(lw=2.0)"
     ],
     "language": "python",
     "metadata": {},
     "outputs": [
      {
       "metadata": {},
       "output_type": "pyout",
       "prompt_number": 55,
       "text": [
        "<matplotlib.axes.AxesSubplot at 0x7f4bedb7b750>"
       ]
      },
      {
       "metadata": {},
       "output_type": "display_data",
       "png": "[encoded data removed]",
       "text": [
        "<matplotlib.figure.Figure at 0x7f4bf404fa10>"
       ]
      }
     ],
     "prompt_number": 55
    },
    {
     "cell_type": "code",
     "collapsed": false,
     "input": [],
     "language": "python",
     "metadata": {},
     "outputs": []
    }
   ],
   "metadata": {}
  }
 ]
}